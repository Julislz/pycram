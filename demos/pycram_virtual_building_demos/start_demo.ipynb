{
 "cells": [
  {
   "cell_type": "markdown",
   "source": [
    "Copyright © 2024 Vanessa Hassouna.\n",
    "\n",
    "This Work is licensed under the [BSD 3-Clause](https://opensource.org/licenses/BSD-3-Clause) License.\n",
    "\n",
    "If you have questions or the demo is not working, write to the author at hassouna@uni-bremen.de.\n",
    "\n",
    "# Live Demo"
   ],
   "metadata": {
    "collapsed": false
   },
   "id": "e1ef45485f1414b2"
  },
  {
   "cell_type": "code",
   "execution_count": 1,
   "outputs": [
    {
     "data": {
      "text/plain": "HBox(children=(HTML(value='<img src=\"data:image/gif;base64,R0lGODlhMgA7AIcAAAAAAP7+/v7///7+//3///7//v39/v////3…",
      "application/vnd.jupyter.widget-view+json": {
       "version_major": 2,
       "version_minor": 0,
       "model_id": "abafac95c076408ca5498fd3a2d3c26c"
      }
     },
     "metadata": {},
     "output_type": "display_data"
    },
    {
     "name": "stderr",
     "output_type": "stream",
     "text": [
      "pybullet build time: Nov 28 2023 23:51:11\n",
      "Exception in thread Thread-8:\n",
      "Traceback (most recent call last):\n",
      "  File \"/usr/lib/python3.8/threading.py\", line 932, in _bootstrap_inner\n",
      "    self.run()\n",
      "  File \"/home/vee/robocup_workspaces/pycram_ws/src/pycram/venv/lib/python3.8/site-packages/ipykernel/ipkernel.py\", line 766, in run_closure\n",
      "    _threading_Thread_run(self)\n",
      "  File \"/usr/lib/python3.8/threading.py\", line 870, in run\n",
      "    self._target(*self._args, **self._kwargs)\n",
      "  File \"/home/vee/robocup_workspaces/pycram_ws/src/pycram/demos/pycram_virtual_building_demos/setup_demo_manager.py\", line 123, in launch_robot_thread\n",
      "    launch_pr2()\n",
      "  File \"/home/vee/robocup_workspaces/pycram_ws/src/pycram/demos/pycram_virtual_building_demos/setup/setup_launch_robot.py\", line 18, in launch_pr2\n",
      "    launch_robot(executable)\n",
      "  File \"/home/vee/robocup_workspaces/pycram_ws/src/pycram/demos/pycram_virtual_building_demos/setup/setup_launch_robot.py\", line 68, in launch_robot\n",
      "    launch.start()\n",
      "  File \"/opt/ros/noetic/lib/python3/dist-packages/roslaunch/parent.py\", line 316, in start\n",
      "    self.runner.launch()\n",
      "  File \"/opt/ros/noetic/lib/python3/dist-packages/roslaunch/launch.py\", line 677, in launch\n",
      "    succeeded, failed = self._launch_nodes()\n",
      "  File \"/opt/ros/noetic/lib/python3/dist-packages/roslaunch/launch.py\", line 383, in _launch_nodes\n",
      "    proc, success = self.launch_node(node)\n",
      "  File \"/opt/ros/noetic/lib/python3/dist-packages/roslaunch/launch.py\", line 558, in launch_node\n",
      "    process = create_node_process(self.run_id, node, master.uri, sigint_timeout=self.sigint_timeout, sigterm_timeout=self.sigterm_timeout)\n",
      "  File \"/opt/ros/noetic/lib/python3/dist-packages/roslaunch/nodeprocess.py\", line 161, in create_node_process\n",
      "    return LocalProcess(run_id, node.package, name, args, env, log_output, \\\n",
      "  File \"/opt/ros/noetic/lib/python3/dist-packages/roslaunch/nodeprocess.py\", line 204, in __init__\n",
      "    super(LocalProcess, self).__init__(package, name, args, env,\n",
      "  File \"/opt/ros/noetic/lib/python3/dist-packages/roslaunch/pmon.py\", line 201, in __init__\n",
      "    _init_signal_handlers()\n",
      "  File \"/opt/ros/noetic/lib/python3/dist-packages/roslaunch/pmon.py\", line 171, in _init_signal_handlers\n",
      "    _signal_chain[s] = signal.signal(s, rl_signal)\n",
      "  File \"/usr/lib/python3.8/signal.py\", line 47, in signal\n",
      "    handler = _signal.signal(_enum_to_int(signalnum), _enum_to_int(handler))\n",
      "ValueError: signal only works in main thread\n"
     ]
    },
    {
     "name": "stdout",
     "output_type": "stream",
     "text": [
      "Error restoring stdout: [Errno 9] Bad file descriptor\n",
      "Error restoring stderr: [Errno 9] Bad file descriptor\n"
     ]
    },
    {
     "name": "stderr",
     "output_type": "stream",
     "text": [
      "Unknown tag \"material\" in /robot[@name='apartment']/link[@name='coffe_machine']/collision[1]\n",
      "Unknown tag \"material\" in /robot[@name='apartment']/link[@name='coffe_machine']/collision[1]\n"
     ]
    }
   ],
   "source": [
    "import rospy\n",
    "\n",
    "from demos.pycram_virtual_building_demos.setup_demo_manager import start_demo\n",
    "\n",
    "start_demo()"
   ],
   "metadata": {
    "collapsed": true,
    "ExecuteTime": {
     "end_time": "2024-09-06T07:57:46.506156939Z",
     "start_time": "2024-09-06T07:57:42.467490009Z"
    }
   },
   "id": "initial_id"
  },
  {
   "cell_type": "code",
   "execution_count": null,
   "outputs": [],
   "source": [],
   "metadata": {
    "collapsed": false
   },
   "id": "7d3c4842f726d7ba"
  }
 ],
 "metadata": {
  "kernelspec": {
   "display_name": "Python 3",
   "language": "python",
   "name": "python3"
  },
  "language_info": {
   "codemirror_mode": {
    "name": "ipython",
    "version": 2
   },
   "file_extension": ".py",
   "mimetype": "text/x-python",
   "name": "python",
   "nbconvert_exporter": "python",
   "pygments_lexer": "ipython2",
   "version": "2.7.6"
  }
 },
 "nbformat": 4,
 "nbformat_minor": 5
}
