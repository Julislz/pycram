{
 "cells": [
  {
   "cell_type": "markdown",
   "id": "e1ef45485f1414b2",
   "metadata": {},
   "source": [
    "Copyright © 2024 Vanessa Hassouna.\n",
    "\n",
    "This Work is licensed under the [BSD 3-Clause](https://opensource.org/licenses/BSD-3-Clause) License.\n",
    "\n",
    "If you have questions or the demo is not working, write to the author at hassouna@uni-bremen.de.\n",
    "\n",
    "# Live Demo"
   ]
  },
  {
   "cell_type": "code",
   "execution_count": 3,
   "id": "initial_id",
   "metadata": {
    "ExecuteTime": {
     "end_time": "2024-09-06T14:56:42.003044670Z",
     "start_time": "2024-09-06T14:56:40.474737884Z"
    }
   },
   "outputs": [
    {
     "data": {
      "text/plain": "HBox(children=(HTML(value='<img src=\"data:image/gif;base64,R0lGODlhMgA7AIcAAAAAAP7+/v7///7+//3///7//v39/v////3…",
      "application/vnd.jupyter.widget-view+json": {
       "version_major": 2,
       "version_minor": 0,
       "model_id": "5d13d28a5078427ba957365bf6578400"
      }
     },
     "metadata": {},
     "output_type": "display_data"
    }
   ],
   "source": [
    "import rospy\n",
    "\n",
    "from demos.pycram_virtual_building_demos.setup_demo_manager import start_demo\n",
    "\n",
    "start_demo()"
   ]
  },
  {
   "cell_type": "code",
   "execution_count": null,
   "outputs": [],
   "source": [],
   "metadata": {
    "collapsed": false
   },
   "id": "302d2881a656bdc6"
  }
 ],
 "metadata": {
  "kernelspec": {
   "display_name": "Python 3 (ipykernel)",
   "language": "python",
   "name": "python3"
  },
  "language_info": {
   "codemirror_mode": {
    "name": "ipython",
    "version": 3
   },
   "file_extension": ".py",
   "mimetype": "text/x-python",
   "name": "python",
   "nbconvert_exporter": "python",
   "pygments_lexer": "ipython3",
   "version": "3.8.10"
  }
 },
 "nbformat": 4,
 "nbformat_minor": 5
}
