{
 "cells": [
  {
   "cell_type": "code",
   "id": "initial_id",
   "metadata": {
    "collapsed": true,
    "ExecuteTime": {
     "end_time": "2024-09-05T08:57:01.976751822Z",
     "start_time": "2024-09-05T08:56:59.248433568Z"
    }
   },
   "source": [
    "from demos.pycram_virtual_building_demos.setup.setup_demo_manager import start_demo\n",
    "from demos.pycram_virtual_building_demos.setup.setup_launch_robot import launch_pr2\n",
    "from demos.pycram_virtual_building_demos.navigate_demo.src.pr2_navigate_demo import navigate_demo\n",
    "\n",
    "launch_pr2()\n",
    "start_demo(navigate_demo)"
   ],
   "outputs": [
    {
     "data": {
      "text/plain": "HBox(children=(HTML(value='<img src=\"data:image/gif;base64,R0lGODlhMgA7AIcAAAAAAP7+/v7///7+//3///7//v39/v////3…",
      "application/vnd.jupyter.widget-view+json": {
       "version_major": 2,
       "version_minor": 0,
       "model_id": "2a38632a97e5442b90cf55b901d22ecd"
      }
     },
     "metadata": {},
     "output_type": "display_data"
    },
    {
     "ename": "ROSInitException",
     "evalue": "time is not initialized. Have you called init_node()?",
     "output_type": "error",
     "traceback": [
      "\u001B[0;31m---------------------------------------------------------------------------\u001B[0m",
      "\u001B[0;31mROSInitException\u001B[0m                          Traceback (most recent call last)",
      "Cell \u001B[0;32mIn[3], line 6\u001B[0m\n\u001B[1;32m      3\u001B[0m \u001B[38;5;28;01mfrom\u001B[39;00m \u001B[38;5;21;01mdemos\u001B[39;00m\u001B[38;5;21;01m.\u001B[39;00m\u001B[38;5;21;01mpycram_virtual_building_demos\u001B[39;00m\u001B[38;5;21;01m.\u001B[39;00m\u001B[38;5;21;01mnavigate_demo\u001B[39;00m\u001B[38;5;21;01m.\u001B[39;00m\u001B[38;5;21;01msrc\u001B[39;00m\u001B[38;5;21;01m.\u001B[39;00m\u001B[38;5;21;01mpr2_navigate_demo\u001B[39;00m \u001B[38;5;28;01mimport\u001B[39;00m navigate_demo\n\u001B[1;32m      5\u001B[0m launch_pr2()\n\u001B[0;32m----> 6\u001B[0m \u001B[43mstart_demo\u001B[49m\u001B[43m(\u001B[49m\u001B[43mnavigate_demo\u001B[49m\u001B[43m)\u001B[49m\n",
      "File \u001B[0;32m~/robocup_workspaces/pycram_ws/src/pycram/demos/pycram_virtual_building_demos/setup/setup_demo_manager.py:10\u001B[0m, in \u001B[0;36mstart_demo\u001B[0;34m(func)\u001B[0m\n\u001B[1;32m      8\u001B[0m output \u001B[38;5;241m=\u001B[39m Output()\n\u001B[1;32m      9\u001B[0m text_widget \u001B[38;5;241m=\u001B[39m display_loading_gif_with_text()\n\u001B[0;32m---> 10\u001B[0m \u001B[43mfunc\u001B[49m\u001B[43m(\u001B[49m\u001B[43m)\u001B[49m\n\u001B[1;32m     11\u001B[0m update_text(text_widget, \u001B[38;5;124m'\u001B[39m\u001B[38;5;124mAlmost done...\u001B[39m\u001B[38;5;124m'\u001B[39m)\n",
      "File \u001B[0;32m~/robocup_workspaces/pycram_ws/src/pycram/demos/pycram_virtual_building_demos/navigate_demo/src/pr2_navigate_demo.py:34\u001B[0m, in \u001B[0;36mnavigate_demo\u001B[0;34m()\u001B[0m\n\u001B[1;32m     33\u001B[0m \u001B[38;5;28;01mdef\u001B[39;00m \u001B[38;5;21mnavigate_demo\u001B[39m():\n\u001B[0;32m---> 34\u001B[0m     \u001B[43mnavigate_main\u001B[49m\u001B[43m(\u001B[49m\u001B[43m)\u001B[49m\n",
      "File \u001B[0;32m~/robocup_workspaces/pycram_ws/src/pycram/demos/pycram_virtual_building_demos/navigate_demo/src/pr2_navigate_demo.py:15\u001B[0m, in \u001B[0;36mnavigate_main\u001B[0;34m()\u001B[0m\n\u001B[1;32m     12\u001B[0m \u001B[38;5;28;01mdef\u001B[39;00m \u001B[38;5;21mnavigate_main\u001B[39m():\n\u001B[1;32m     13\u001B[0m     extension \u001B[38;5;241m=\u001B[39m ObjectDescription\u001B[38;5;241m.\u001B[39mget_file_extension()\n\u001B[0;32m---> 15\u001B[0m     world \u001B[38;5;241m=\u001B[39m \u001B[43mBulletWorld\u001B[49m\u001B[43m(\u001B[49m\u001B[43mWorldMode\u001B[49m\u001B[38;5;241;43m.\u001B[39;49m\u001B[43mDIRECT\u001B[49m\u001B[43m)\u001B[49m\n\u001B[1;32m     16\u001B[0m     viz_marker \u001B[38;5;241m=\u001B[39m VizMarkerPublisher()\n\u001B[1;32m     17\u001B[0m     robot \u001B[38;5;241m=\u001B[39m Object(\u001B[38;5;124m\"\u001B[39m\u001B[38;5;124mpr2\u001B[39m\u001B[38;5;124m\"\u001B[39m, ObjectType\u001B[38;5;241m.\u001B[39mROBOT, \u001B[38;5;124mf\u001B[39m\u001B[38;5;124m\"\u001B[39m\u001B[38;5;124mpr2\u001B[39m\u001B[38;5;132;01m{\u001B[39;00mextension\u001B[38;5;132;01m}\u001B[39;00m\u001B[38;5;124m\"\u001B[39m, pose\u001B[38;5;241m=\u001B[39mPose([\u001B[38;5;241m1\u001B[39m, \u001B[38;5;241m2\u001B[39m, \u001B[38;5;241m0\u001B[39m]))\n",
      "File \u001B[0;32m~/robocup_workspaces/pycram_ws/src/pycram/src/pycram/worlds/bullet_world.py:64\u001B[0m, in \u001B[0;36mBulletWorld.__init__\u001B[0;34m(self, mode, is_prospection_world, sim_frequency)\u001B[0m\n\u001B[1;32m     61\u001B[0m \u001B[38;5;28mself\u001B[39m\u001B[38;5;241m.\u001B[39mset_gravity([\u001B[38;5;241m0\u001B[39m, \u001B[38;5;241m0\u001B[39m, \u001B[38;5;241m-\u001B[39m\u001B[38;5;241m9.8\u001B[39m])\n\u001B[1;32m     63\u001B[0m \u001B[38;5;28;01mif\u001B[39;00m \u001B[38;5;129;01mnot\u001B[39;00m is_prospection_world:\n\u001B[0;32m---> 64\u001B[0m     _ \u001B[38;5;241m=\u001B[39m \u001B[43mObject\u001B[49m\u001B[43m(\u001B[49m\u001B[38;5;124;43m\"\u001B[39;49m\u001B[38;5;124;43mfloor\u001B[39;49m\u001B[38;5;124;43m\"\u001B[39;49m\u001B[43m,\u001B[49m\u001B[43m \u001B[49m\u001B[43mObjectType\u001B[49m\u001B[38;5;241;43m.\u001B[39;49m\u001B[43mENVIRONMENT\u001B[49m\u001B[43m,\u001B[49m\u001B[43m \u001B[49m\u001B[38;5;124;43m\"\u001B[39;49m\u001B[38;5;124;43mplane\u001B[39;49m\u001B[38;5;124;43m\"\u001B[39;49m\u001B[43m \u001B[49m\u001B[38;5;241;43m+\u001B[39;49m\u001B[43m \u001B[49m\u001B[38;5;28;43mself\u001B[39;49m\u001B[38;5;241;43m.\u001B[39;49m\u001B[43mextension\u001B[49m\u001B[43m,\u001B[49m\n\u001B[1;32m     65\u001B[0m \u001B[43m               \u001B[49m\u001B[43mworld\u001B[49m\u001B[38;5;241;43m=\u001B[39;49m\u001B[38;5;28;43mself\u001B[39;49m\u001B[43m)\u001B[49m\n",
      "File \u001B[0;32m~/robocup_workspaces/pycram_ws/src/pycram/src/pycram/world_concepts/world_object.py:63\u001B[0m, in \u001B[0;36mObject.__init__\u001B[0;34m(self, name, obj_type, path, description, pose, world, color, ignore_cached_files)\u001B[0m\n\u001B[1;32m     60\u001B[0m \u001B[38;5;28msuper\u001B[39m()\u001B[38;5;241m.\u001B[39m\u001B[38;5;21m__init__\u001B[39m(\u001B[38;5;241m-\u001B[39m\u001B[38;5;241m1\u001B[39m, world)\n\u001B[1;32m     62\u001B[0m \u001B[38;5;28;01mif\u001B[39;00m pose \u001B[38;5;129;01mis\u001B[39;00m \u001B[38;5;28;01mNone\u001B[39;00m:\n\u001B[0;32m---> 63\u001B[0m     pose \u001B[38;5;241m=\u001B[39m \u001B[43mPose\u001B[49m\u001B[43m(\u001B[49m\u001B[43m)\u001B[49m\n\u001B[1;32m     64\u001B[0m \u001B[38;5;28;01mif\u001B[39;00m name \u001B[38;5;129;01min\u001B[39;00m [obj\u001B[38;5;241m.\u001B[39mname \u001B[38;5;28;01mfor\u001B[39;00m obj \u001B[38;5;129;01min\u001B[39;00m \u001B[38;5;28mself\u001B[39m\u001B[38;5;241m.\u001B[39mworld\u001B[38;5;241m.\u001B[39mobjects]:\n\u001B[1;32m     65\u001B[0m     rospy\u001B[38;5;241m.\u001B[39mlogerr(\u001B[38;5;124mf\u001B[39m\u001B[38;5;124m\"\u001B[39m\u001B[38;5;124mAn object with the name \u001B[39m\u001B[38;5;132;01m{\u001B[39;00mname\u001B[38;5;132;01m}\u001B[39;00m\u001B[38;5;124m already exists in the world.\u001B[39m\u001B[38;5;124m\"\u001B[39m)\n",
      "File \u001B[0;32m~/robocup_workspaces/pycram_ws/src/pycram/src/pycram/datastructures/pose.py:71\u001B[0m, in \u001B[0;36mPose.__init__\u001B[0;34m(self, position, orientation, frame, time)\u001B[0m\n\u001B[1;32m     67\u001B[0m     \u001B[38;5;28mself\u001B[39m\u001B[38;5;241m.\u001B[39mpose\u001B[38;5;241m.\u001B[39morientation\u001B[38;5;241m.\u001B[39mw \u001B[38;5;241m=\u001B[39m \u001B[38;5;241m1.0\u001B[39m\n\u001B[1;32m     69\u001B[0m \u001B[38;5;28mself\u001B[39m\u001B[38;5;241m.\u001B[39mheader\u001B[38;5;241m.\u001B[39mframe_id \u001B[38;5;241m=\u001B[39m frame\n\u001B[0;32m---> 71\u001B[0m \u001B[38;5;28mself\u001B[39m\u001B[38;5;241m.\u001B[39mheader\u001B[38;5;241m.\u001B[39mstamp \u001B[38;5;241m=\u001B[39m time \u001B[38;5;28;01mif\u001B[39;00m time \u001B[38;5;28;01melse\u001B[39;00m \u001B[43mrospy\u001B[49m\u001B[38;5;241;43m.\u001B[39;49m\u001B[43mTime\u001B[49m\u001B[38;5;241;43m.\u001B[39;49m\u001B[43mnow\u001B[49m\u001B[43m(\u001B[49m\u001B[43m)\u001B[49m\n\u001B[1;32m     73\u001B[0m \u001B[38;5;28mself\u001B[39m\u001B[38;5;241m.\u001B[39mframe \u001B[38;5;241m=\u001B[39m frame\n",
      "File \u001B[0;32m/opt/ros/noetic/lib/python3/dist-packages/rospy/rostime.py:155\u001B[0m, in \u001B[0;36mTime.now\u001B[0;34m()\u001B[0m\n\u001B[1;32m    143\u001B[0m \u001B[38;5;129m@staticmethod\u001B[39m\n\u001B[1;32m    144\u001B[0m \u001B[38;5;28;01mdef\u001B[39;00m \u001B[38;5;21mnow\u001B[39m():\n\u001B[1;32m    145\u001B[0m \u001B[38;5;250m    \u001B[39m\u001B[38;5;124;03m\"\"\"\u001B[39;00m\n\u001B[1;32m    146\u001B[0m \u001B[38;5;124;03m    Create new L{Time} instance representing current time. This\u001B[39;00m\n\u001B[1;32m    147\u001B[0m \u001B[38;5;124;03m    can either be wall-clock time or a simulated clock. It is\u001B[39;00m\n\u001B[0;32m   (...)\u001B[0m\n\u001B[1;32m    153\u001B[0m \u001B[38;5;124;03m    @rtype: L{Time}\u001B[39;00m\n\u001B[1;32m    154\u001B[0m \u001B[38;5;124;03m    \"\"\"\u001B[39;00m\n\u001B[0;32m--> 155\u001B[0m     \u001B[38;5;28;01mreturn\u001B[39;00m \u001B[43mget_rostime\u001B[49m\u001B[43m(\u001B[49m\u001B[43m)\u001B[49m\n",
      "File \u001B[0;32m/opt/ros/noetic/lib/python3/dist-packages/rospy/rostime.py:190\u001B[0m, in \u001B[0;36mget_rostime\u001B[0;34m()\u001B[0m\n\u001B[1;32m    184\u001B[0m \u001B[38;5;250m\u001B[39m\u001B[38;5;124;03m\"\"\"\u001B[39;00m\n\u001B[1;32m    185\u001B[0m \u001B[38;5;124;03mGet the current time as a L{Time} object    \u001B[39;00m\n\u001B[1;32m    186\u001B[0m \u001B[38;5;124;03m@return: current time as a L{rospy.Time} object\u001B[39;00m\n\u001B[1;32m    187\u001B[0m \u001B[38;5;124;03m@rtype: L{Time}\u001B[39;00m\n\u001B[1;32m    188\u001B[0m \u001B[38;5;124;03m\"\"\"\u001B[39;00m\n\u001B[1;32m    189\u001B[0m \u001B[38;5;28;01mif\u001B[39;00m \u001B[38;5;129;01mnot\u001B[39;00m _rostime_initialized:\n\u001B[0;32m--> 190\u001B[0m     \u001B[38;5;28;01mraise\u001B[39;00m rospy\u001B[38;5;241m.\u001B[39mexceptions\u001B[38;5;241m.\u001B[39mROSInitException(\u001B[38;5;124m\"\u001B[39m\u001B[38;5;124mtime is not initialized. Have you called init_node()?\u001B[39m\u001B[38;5;124m\"\u001B[39m)\n\u001B[1;32m    191\u001B[0m \u001B[38;5;28;01mif\u001B[39;00m _rostime_current \u001B[38;5;129;01mis\u001B[39;00m \u001B[38;5;129;01mnot\u001B[39;00m \u001B[38;5;28;01mNone\u001B[39;00m:\n\u001B[1;32m    192\u001B[0m     \u001B[38;5;66;03m# initialize with sim time\u001B[39;00m\n\u001B[1;32m    193\u001B[0m     \u001B[38;5;28;01mreturn\u001B[39;00m _rostime_current\n",
      "\u001B[0;31mROSInitException\u001B[0m: time is not initialized. Have you called init_node()?"
     ]
    }
   ],
   "execution_count": 3
  },
  {
   "cell_type": "code",
   "source": [],
   "metadata": {
    "collapsed": false
   },
   "id": "aa836ffe066c2fbf",
   "outputs": [],
   "execution_count": null
  },
  {
   "cell_type": "code",
   "execution_count": null,
   "outputs": [],
   "source": [],
   "metadata": {
    "collapsed": false
   },
   "id": "471c9b997e9dd3c"
  }
 ],
 "metadata": {
  "kernelspec": {
   "display_name": "Python 3",
   "language": "python",
   "name": "python3"
  },
  "language_info": {
   "codemirror_mode": {
    "name": "ipython",
    "version": 2
   },
   "file_extension": ".py",
   "mimetype": "text/x-python",
   "name": "python",
   "nbconvert_exporter": "python",
   "pygments_lexer": "ipython2",
   "version": "2.7.6"
  }
 },
 "nbformat": 4,
 "nbformat_minor": 5
}
