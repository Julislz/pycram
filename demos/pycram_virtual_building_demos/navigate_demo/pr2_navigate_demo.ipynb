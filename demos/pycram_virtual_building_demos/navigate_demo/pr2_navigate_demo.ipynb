{
 "cells": [
  {
   "cell_type": "code",
   "id": "initial_id",
   "metadata": {
    "collapsed": true,
    "ExecuteTime": {
     "end_time": "2024-09-04T17:00:29.133444841Z",
     "start_time": "2024-09-04T17:00:19.313769074Z"
    }
   },
   "source": [
    "from demos.pycram_virtual_building_demos.setup.setup_demo_manager import start_demo\n",
    "from demos.pycram_virtual_building_demos.setup.setup_launch_robot import launch_pr2\n",
    "from demos.pycram_virtual_building_demos.navigate_demo.src.pr2_navigate_demo import navigate_demo\n",
    "\n",
    "launch_pr2()\n",
    "start_demo(navigate_demo)"
   ],
   "outputs": [
    {
     "name": "stdout",
     "output_type": "stream",
     "text": [
      "... logging to /home/vee/.ros/log/d9513908-6ad8-11ef-9091-61e8751eef35/roslaunch-venevo-29698.log\n",
      "\u001B[1mstarted roslaunch server http://venevo:34087/\u001B[0m\n",
      "\n",
      "SUMMARY\n",
      "========\n",
      "\n",
      "PARAMETERS\n",
      " * /pr2_left_arm_kinematics/root_name: torso_lift_link\n",
      " * /pr2_left_arm_kinematics/tip_name: l_wrist_roll_link\n",
      " * /pr2_right_arm_kinematics/root_name: torso_lift_link\n",
      " * /pr2_right_arm_kinematics/tip_name: r_wrist_roll_link\n",
      " * /robot_description: <?xml version=\"1....\n",
      " * /rosdistro: noetic\n",
      " * /rosversion: 1.16.0\n",
      "\n",
      "NODES\n",
      "  /\n",
      "    kdl_ik_service (kdl_ik_service/start_ros_server.py)\n",
      "    pr2_left_arm_kinematics (pr2_arm_kinematics/pr2_arm_kinematics_node)\n",
      "    pr2_right_arm_kinematics (pr2_arm_kinematics/pr2_arm_kinematics_node)\n",
      "\n",
      "\u001B[1mROS_MASTER_URI=http://localhost:11311\u001B[0m\n",
      "\u001B[1mprocess[kdl_ik_service-7]: started with pid [30259]\u001B[0m\n",
      "\u001B[1mprocess[pr2_left_arm_kinematics-8]: started with pid [30260]\u001B[0m\n",
      "\u001B[1mprocess[pr2_right_arm_kinematics-9]: started with pid [30261]\u001B[0m\n",
      "[INFO] [1725469219.512571]: pr2_standalone.launch started\n"
     ]
    },
    {
     "name": "stderr",
     "output_type": "stream",
     "text": [
      "\u001B[33m[ WARN] [1725469219.524252045]: The root link base_footprint has an inertia specified in the URDF, but KDL does not support a root link with an inertia.  As a workaround, you can add an extra dummy link to your URDF.\u001B[0m\n",
      "\u001B[33m[ WARN] [1725469219.532721981]: Shutdown request received.\u001B[0m\n",
      "\u001B[33m[ WARN] [1725469219.532758764]: Reason given for shutdown: [[/pr2_left_arm_kinematics] Reason: new node registered with same name]\u001B[0m\n",
      "\u001B[33m[ WARN] [1725469219.532765945]: The root link base_footprint has an inertia specified in the URDF, but KDL does not support a root link with an inertia.  As a workaround, you can add an extra dummy link to your URDF.\u001B[0m\n",
      "\u001B[33m[ WARN] [1725469219.551882703]: Shutdown request received.\u001B[0m\n",
      "\u001B[33m[ WARN] [1725469219.551930994]: Reason given for shutdown: [[/pr2_right_arm_kinematics] Reason: new node registered with same name]\u001B[0m\n"
     ]
    },
    {
     "name": "stdout",
     "output_type": "stream",
     "text": [
      "\u001B[0m[ INFO] [1725469189.320152010]: pr2_arm_kinematics active\u001B[0m\n",
      "\u001B[0m[ INFO] [1725469189.332356992]: pr2_arm_kinematics active\u001B[0m\n",
      "\u001B[1m[pr2_left_arm_kinematics-5] process has finished cleanly\n",
      "log file: /home/vee/.ros/log/d9513908-6ad8-11ef-9091-61e8751eef35/pr2_left_arm_kinematics-5*.log\u001B[0m\n",
      "\u001B[1m[pr2_right_arm_kinematics-6] process has finished cleanly\n",
      "log file: /home/vee/.ros/log/d9513908-6ad8-11ef-9091-61e8751eef35/pr2_right_arm_kinematics-6*.log\u001B[0m\n",
      "IK server ready.\n",
      "shutdown request: [/kdl_ik_service] Reason: new node registered with same name\n",
      "\u001B[1m[kdl_ik_service-4] process has finished cleanly\n",
      "log file: /home/vee/.ros/log/d9513908-6ad8-11ef-9091-61e8751eef35/kdl_ik_service-4*.log\u001B[0m\n",
      "all processes on machine have died, roslaunch will exit\n"
     ]
    },
    {
     "data": {
      "text/plain": "HBox(children=(HTML(value='<img src=\"data:image/gif;base64,R0lGODlhMgA7AIcAAAAAAP7+/v7///7+//3///7//v39/v////3…",
      "application/vnd.jupyter.widget-view+json": {
       "version_major": 2,
       "version_minor": 0,
       "model_id": "6f1f9d7484a54becb8aeee286f114b3b"
      }
     },
     "metadata": {},
     "output_type": "display_data"
    },
    {
     "name": "stderr",
     "output_type": "stream",
     "text": [
      "Unknown tag \"material\" in /robot[@name='apartment']/link[@name='coffe_machine']/collision[1]\n"
     ]
    },
    {
     "name": "stdout",
     "output_type": "stream",
     "text": [
      "[INFO] [1725469223.111280]: Using global default ontology world with SQL backend: /home/vee/ontologies/SOMA-HOME.sqlite3\n"
     ]
    },
    {
     "name": "stderr",
     "output_type": "stream",
     "text": [
      "Unknown tag \"material\" in /robot[@name='apartment']/link[@name='coffe_machine']/collision[1]\n"
     ]
    },
    {
     "name": "stdout",
     "output_type": "stream",
     "text": [
      "[INFO] [1725469227.532935]: Ontology [http://www.ease-crc.org/ont/SOMA-HOME.owl#]'s name: SOMA-HOME has been loaded\n",
      "[INFO] [1725469227.533032]: - main namespace: SOMA-HOME\n",
      "[INFO] [1725469227.533063]: - loaded ontologies:\n",
      "[INFO] [1725469227.533095]: http://www.ease-crc.org/ont/SOMA-HOME.owl#\n",
      "[INFO] [1725469227.533122]: http://www.ease-crc.org/ont/DUL.owl#\n",
      "[INFO] [1725469227.533146]: http://www.ease-crc.org/ont/SOMA.owl#\n"
     ]
    }
   ],
   "execution_count": 5
  },
  {
   "cell_type": "code",
   "source": [],
   "metadata": {
    "collapsed": false
   },
   "id": "aa836ffe066c2fbf",
   "outputs": [],
   "execution_count": null
  },
  {
   "cell_type": "code",
   "execution_count": null,
   "outputs": [],
   "source": [],
   "metadata": {
    "collapsed": false
   },
   "id": "471c9b997e9dd3c"
  }
 ],
 "metadata": {
  "kernelspec": {
   "display_name": "Python 3",
   "language": "python",
   "name": "python3"
  },
  "language_info": {
   "codemirror_mode": {
    "name": "ipython",
    "version": 2
   },
   "file_extension": ".py",
   "mimetype": "text/x-python",
   "name": "python",
   "nbconvert_exporter": "python",
   "pygments_lexer": "ipython2",
   "version": "2.7.6"
  }
 },
 "nbformat": 4,
 "nbformat_minor": 5
}
