{
 "cells": [
  {
   "cell_type": "code",
   "execution_count": 1,
   "id": "initial_id",
   "metadata": {
    "collapsed": true,
    "ExecuteTime": {
     "end_time": "2024-09-04T16:14:51.948211547Z",
     "start_time": "2024-09-04T16:14:51.629283369Z"
    }
   },
   "outputs": [
    {
     "name": "stdout",
     "output_type": "stream",
     "text": [
      "... logging to /home/vee/.ros/log/d0b188e8-6ad8-11ef-9091-61e8751eef35/roslaunch-venevo-21966.log\n"
     ]
    },
    {
     "name": "stderr",
     "output_type": "stream",
     "text": [
      "pybullet build time: Nov 28 2023 23:51:11\n"
     ]
    },
    {
     "ename": "RLException",
     "evalue": "[] is neither a launch file in package [/home/vee/robocup_workspaces/pycram_ws/src/pycram/launch/hsrb_standalone.launch] nor is [/home/vee/robocup_workspaces/pycram_ws/src/pycram/launch/hsrb_standalone.launch] a launch file name",
     "output_type": "error",
     "traceback": [
      "\u001B[0;31m---------------------------------------------------------------------------\u001B[0m",
      "\u001B[0;31mRLException\u001B[0m                               Traceback (most recent call last)",
      "Cell \u001B[0;32mIn[1], line 5\u001B[0m\n\u001B[1;32m      2\u001B[0m \u001B[38;5;28;01mfrom\u001B[39;00m \u001B[38;5;21;01mhsrb_navigate_demo\u001B[39;00m \u001B[38;5;28;01mimport\u001B[39;00m navigate_demo\n\u001B[1;32m      3\u001B[0m \u001B[38;5;28;01mfrom\u001B[39;00m \u001B[38;5;21;01msetup_launch_robot\u001B[39;00m \u001B[38;5;28;01mimport\u001B[39;00m launch_hsrb\n\u001B[0;32m----> 5\u001B[0m \u001B[43mlaunch_hsrb\u001B[49m\u001B[43m(\u001B[49m\u001B[43m)\u001B[49m\n\u001B[1;32m      6\u001B[0m start_demo(navigate_demo)\n",
      "File \u001B[0;32m~/robocup_workspaces/pycram_ws/src/pycram/demos/pycram_virtual_building_demos/setup_launch_robot.py:23\u001B[0m, in \u001B[0;36mlaunch_hsrb\u001B[0;34m()\u001B[0m\n\u001B[1;32m     19\u001B[0m \u001B[38;5;28;01mdef\u001B[39;00m \u001B[38;5;21mlaunch_hsrb\u001B[39m():\n\u001B[1;32m     20\u001B[0m     \u001B[38;5;66;03m# name = 'hsrb'\u001B[39;00m\n\u001B[1;32m     21\u001B[0m     \u001B[38;5;66;03m# urdf = 'hsrb.urdf'\u001B[39;00m\n\u001B[1;32m     22\u001B[0m     executable \u001B[38;5;241m=\u001B[39m \u001B[38;5;124m'\u001B[39m\u001B[38;5;124mhsrb_standalone.launch\u001B[39m\u001B[38;5;124m'\u001B[39m\n\u001B[0;32m---> 23\u001B[0m     \u001B[43mlaunch_robot\u001B[49m\u001B[43m(\u001B[49m\u001B[43mexecutable\u001B[49m\u001B[43m)\u001B[49m\n",
      "File \u001B[0;32m~/robocup_workspaces/pycram_ws/src/pycram/demos/pycram_virtual_building_demos/setup_launch_robot.py:62\u001B[0m, in \u001B[0;36mlaunch_robot\u001B[0;34m(launch_file, package, launch_folder, args)\u001B[0m\n\u001B[1;32m     59\u001B[0m     args \u001B[38;5;241m=\u001B[39m [\u001B[38;5;124m\"\u001B[39m\u001B[38;5;124m\"\u001B[39m]\n\u001B[1;32m     61\u001B[0m args\u001B[38;5;241m.\u001B[39minsert(\u001B[38;5;241m0\u001B[39m, launch_args)\n\u001B[0;32m---> 62\u001B[0m roslaunch_file \u001B[38;5;241m=\u001B[39m [(\u001B[43mroslaunch\u001B[49m\u001B[38;5;241;43m.\u001B[39;49m\u001B[43mrlutil\u001B[49m\u001B[38;5;241;43m.\u001B[39;49m\u001B[43mresolve_launch_arguments\u001B[49m\u001B[43m(\u001B[49m\u001B[43margs\u001B[49m\u001B[43m)\u001B[49m[\u001B[38;5;241m0\u001B[39m], args[\u001B[38;5;241m1\u001B[39m:])]\n\u001B[1;32m     64\u001B[0m launch \u001B[38;5;241m=\u001B[39m roslaunch\u001B[38;5;241m.\u001B[39mparent\u001B[38;5;241m.\u001B[39mROSLaunchParent(uuid, roslaunch_file)\n\u001B[1;32m     65\u001B[0m launch\u001B[38;5;241m.\u001B[39mstart()\n",
      "File \u001B[0;32m/opt/ros/noetic/lib/python3/dist-packages/roslaunch/rlutil.py:105\u001B[0m, in \u001B[0;36mresolve_launch_arguments\u001B[0;34m(args)\u001B[0m\n\u001B[1;32m    103\u001B[0m \u001B[38;5;28;01mif\u001B[39;00m resolved_args \u001B[38;5;129;01mis\u001B[39;00m \u001B[38;5;28;01mNone\u001B[39;00m:\n\u001B[1;32m    104\u001B[0m     \u001B[38;5;28;01mif\u001B[39;00m \u001B[38;5;28mlen\u001B[39m(args) \u001B[38;5;241m>\u001B[39m\u001B[38;5;241m=\u001B[39m \u001B[38;5;241m2\u001B[39m:\n\u001B[0;32m--> 105\u001B[0m         \u001B[38;5;28;01mraise\u001B[39;00m roslaunch\u001B[38;5;241m.\u001B[39mcore\u001B[38;5;241m.\u001B[39mRLException(\u001B[38;5;124m\"\u001B[39m\u001B[38;5;124m[\u001B[39m\u001B[38;5;132;01m%s\u001B[39;00m\u001B[38;5;124m] is neither a launch file in package [\u001B[39m\u001B[38;5;132;01m%s\u001B[39;00m\u001B[38;5;124m] nor is [\u001B[39m\u001B[38;5;132;01m%s\u001B[39;00m\u001B[38;5;124m] a launch file name\u001B[39m\u001B[38;5;124m\"\u001B[39m \u001B[38;5;241m%\u001B[39m (args[\u001B[38;5;241m1\u001B[39m], args[\u001B[38;5;241m0\u001B[39m], args[\u001B[38;5;241m0\u001B[39m]))\n\u001B[1;32m    106\u001B[0m     \u001B[38;5;28;01melse\u001B[39;00m:\n\u001B[1;32m    107\u001B[0m         \u001B[38;5;28;01mraise\u001B[39;00m roslaunch\u001B[38;5;241m.\u001B[39mcore\u001B[38;5;241m.\u001B[39mRLException(\u001B[38;5;124m\"\u001B[39m\u001B[38;5;124m[\u001B[39m\u001B[38;5;132;01m%s\u001B[39;00m\u001B[38;5;124m] is not a launch file name\u001B[39m\u001B[38;5;124m\"\u001B[39m \u001B[38;5;241m%\u001B[39m args[\u001B[38;5;241m0\u001B[39m])\n",
      "\u001B[0;31mRLException\u001B[0m: [] is neither a launch file in package [/home/vee/robocup_workspaces/pycram_ws/src/pycram/launch/hsrb_standalone.launch] nor is [/home/vee/robocup_workspaces/pycram_ws/src/pycram/launch/hsrb_standalone.launch] a launch file name"
     ]
    }
   ],
   "source": [
    "from setup_demo_manager import start_demo\n",
    "from hsrb_navigate_demo import navigate_demo\n",
    "from setup_launch_robot import launch_hsrb\n",
    "\n",
    "launch_hsrb()\n",
    "start_demo(navigate_demo)"
   ]
  },
  {
   "cell_type": "code",
   "outputs": [],
   "source": [],
   "metadata": {
    "collapsed": false,
    "is_executing": true
   },
   "id": "aa836ffe066c2fbf",
   "execution_count": null
  }
 ],
 "metadata": {
  "kernelspec": {
   "display_name": "Python 3",
   "language": "python",
   "name": "python3"
  },
  "language_info": {
   "codemirror_mode": {
    "name": "ipython",
    "version": 2
   },
   "file_extension": ".py",
   "mimetype": "text/x-python",
   "name": "python",
   "nbconvert_exporter": "python",
   "pygments_lexer": "ipython2",
   "version": "2.7.6"
  }
 },
 "nbformat": 4,
 "nbformat_minor": 5
}
