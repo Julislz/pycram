{
 "cells": [
  {
   "cell_type": "markdown",
   "id": "e1ef45485f1414b2",
   "metadata": {},
   "source": [
    "Copyright © 2024 Vanessa Hassouna.\n",
    "\n",
    "This Work is licensed under the [BSD 3-Clause](https://opensource.org/licenses/BSD-3-Clause) License.\n",
    "\n",
    "If you have questions or the demo is not working, write to the author at hassouna@uni-bremen.de.\n",
    "\n",
    "# Live Demo"
   ]
  },
  {
   "cell_type": "code",
   "execution_count": 4,
   "id": "initial_id",
   "metadata": {
    "ExecuteTime": {
     "end_time": "2024-09-06T08:14:42.434008956Z",
     "start_time": "2024-09-06T08:14:42.054361484Z"
    }
   },
   "outputs": [
    {
     "data": {
      "application/vnd.jupyter.widget-view+json": {
       "model_id": "4391d70ca00e4c849185ece31173f4d4",
       "version_major": 2,
       "version_minor": 0
      },
      "text/plain": [
       "HBox(children=(HTML(value='<img src=\"data:image/gif;base64,R0lGODlhMgA7AIcAAAAAAP7+/v7///7+//3///7//v39/v////3…"
      ]
     },
     "metadata": {},
     "output_type": "display_data"
    },
    {
     "name": "stdout",
     "output_type": "stream",
     "text": [
      "Done with the task...\n"
     ]
    },
    {
     "name": "stderr",
     "output_type": "stream",
     "text": [
      "[ERROR] [1725610593.399894]: An object with the name pr2 already exists in the world.\n",
      "[ERROR] [1725610593.457113]: An object with the name apartment already exists in the world.\n"
     ]
    }
   ],
   "source": [
    "import rospy\n",
    "\n",
    "from demos.pycram_virtual_building_demos.setup_demo_manager import start_demo\n",
    "\n",
    "start_demo()"
   ]
  },
  {
   "cell_type": "code",
   "execution_count": null,
   "id": "7d3c4842f726d7ba",
   "metadata": {},
   "outputs": [],
   "source": []
  }
 ],
 "metadata": {
  "kernelspec": {
   "display_name": "Python 3 (ipykernel)",
   "language": "python",
   "name": "python3"
  },
  "language_info": {
   "codemirror_mode": {
    "name": "ipython",
    "version": 3
   },
   "file_extension": ".py",
   "mimetype": "text/x-python",
   "name": "python",
   "nbconvert_exporter": "python",
   "pygments_lexer": "ipython3",
   "version": "3.8.10"
  }
 },
 "nbformat": 4,
 "nbformat_minor": 5
}
