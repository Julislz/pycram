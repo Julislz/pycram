{
 "cells": [
  {
   "cell_type": "code",
   "id": "initial_id",
   "metadata": {
    "collapsed": true,
    "ExecuteTime": {
     "end_time": "2024-09-04T12:14:25.529097Z",
     "start_time": "2024-09-04T12:14:15.501154Z"
    }
   },
   "source": [
    "from setup_demo_manager import start_demo\n",
    "from pr2_navigate_demo import navigate_demo\n",
    "from setup_launch_robot import launch_pr2\n",
    "\n",
    "launch_pr2()\n",
    "start_demo(navigate_demo)"
   ],
   "outputs": [
    {
     "name": "stdout",
     "output_type": "stream",
     "text": [
      "... logging to /home/pkehr/.ros/log/35dc3d84-6ab7-11ef-b3a1-7903f4cd4364/roslaunch-hsr-backpack-231823.log\n"
     ]
    },
    {
     "ename": "RLException",
     "evalue": "Unable to contact my own server at [http://192.168.0.130:41717/].\nThis usually means that the network is not configured properly.\n\nA common cause is that the machine cannot connect to itself.  Please check\nfor errors by running:\n\n\tping 192.168.0.130\n\nFor more tips, please see\n\n\thttp://wiki.ros.org/ROS/NetworkSetup\n",
     "output_type": "error",
     "traceback": [
      "\u001B[0;31m---------------------------------------------------------------------------\u001B[0m",
      "\u001B[0;31mRLException\u001B[0m                               Traceback (most recent call last)",
      "Cell \u001B[0;32mIn[5], line 5\u001B[0m\n\u001B[1;32m      2\u001B[0m \u001B[38;5;28;01mfrom\u001B[39;00m \u001B[38;5;21;01mpr2_navigate_demo\u001B[39;00m \u001B[38;5;28;01mimport\u001B[39;00m navigate_demo\n\u001B[1;32m      3\u001B[0m \u001B[38;5;28;01mfrom\u001B[39;00m \u001B[38;5;21;01msetup_launch_robot\u001B[39;00m \u001B[38;5;28;01mimport\u001B[39;00m launch_pr2\n\u001B[0;32m----> 5\u001B[0m \u001B[43mlaunch_pr2\u001B[49m\u001B[43m(\u001B[49m\u001B[43m)\u001B[49m\n\u001B[1;32m      6\u001B[0m start_demo(navigate_demo)\n",
      "File \u001B[0;32m~/workspaces/pycram_work/pycram_ws/src/pycram/demos/pycram_virtual_building_demos/setup_launch_robot.py:16\u001B[0m, in \u001B[0;36mlaunch_pr2\u001B[0;34m()\u001B[0m\n\u001B[1;32m     13\u001B[0m \u001B[38;5;66;03m# name = 'pr2'\u001B[39;00m\n\u001B[1;32m     14\u001B[0m \u001B[38;5;66;03m# urdf = 'pr2.urdf'\u001B[39;00m\n\u001B[1;32m     15\u001B[0m executable \u001B[38;5;241m=\u001B[39m \u001B[38;5;124m'\u001B[39m\u001B[38;5;124mpr2_standalone.launch\u001B[39m\u001B[38;5;124m'\u001B[39m\n\u001B[0;32m---> 16\u001B[0m \u001B[43mlaunch_robot\u001B[49m\u001B[43m(\u001B[49m\u001B[43mexecutable\u001B[49m\u001B[43m)\u001B[49m\n",
      "File \u001B[0;32m~/workspaces/pycram_work/pycram_ws/src/pycram/demos/pycram_virtual_building_demos/setup_launch_robot.py:65\u001B[0m, in \u001B[0;36mlaunch_robot\u001B[0;34m(launch_file, package, launch_folder, args)\u001B[0m\n\u001B[1;32m     62\u001B[0m roslaunch_file \u001B[38;5;241m=\u001B[39m [(roslaunch\u001B[38;5;241m.\u001B[39mrlutil\u001B[38;5;241m.\u001B[39mresolve_launch_arguments(args)[\u001B[38;5;241m0\u001B[39m], args[\u001B[38;5;241m1\u001B[39m:])]\n\u001B[1;32m     64\u001B[0m launch \u001B[38;5;241m=\u001B[39m roslaunch\u001B[38;5;241m.\u001B[39mparent\u001B[38;5;241m.\u001B[39mROSLaunchParent(uuid, roslaunch_file)\n\u001B[0;32m---> 65\u001B[0m \u001B[43mlaunch\u001B[49m\u001B[38;5;241;43m.\u001B[39;49m\u001B[43mstart\u001B[49m\u001B[43m(\u001B[49m\u001B[43m)\u001B[49m\n\u001B[1;32m     67\u001B[0m rospy\u001B[38;5;241m.\u001B[39mloginfo(\u001B[38;5;124mf\u001B[39m\u001B[38;5;124m'\u001B[39m\u001B[38;5;132;01m{\u001B[39;00mlaunch_file\u001B[38;5;132;01m}\u001B[39;00m\u001B[38;5;124m started\u001B[39m\u001B[38;5;124m'\u001B[39m)\n\u001B[1;32m     69\u001B[0m \u001B[38;5;66;03m# Wait for ik server to launch\u001B[39;00m\n",
      "File \u001B[0;32m/opt/ros/noetic/lib/python3/dist-packages/roslaunch/parent.py:305\u001B[0m, in \u001B[0;36mROSLaunchParent.start\u001B[0;34m(self, auto_terminate)\u001B[0m\n\u001B[1;32m    303\u001B[0m \u001B[38;5;66;03m# load config, start XMLRPC servers and process monitor\u001B[39;00m\n\u001B[1;32m    304\u001B[0m \u001B[38;5;28;01mtry\u001B[39;00m:\n\u001B[0;32m--> 305\u001B[0m     \u001B[38;5;28;43mself\u001B[39;49m\u001B[38;5;241;43m.\u001B[39;49m\u001B[43m_start_infrastructure\u001B[49m\u001B[43m(\u001B[49m\u001B[43m)\u001B[49m\n\u001B[1;32m    306\u001B[0m \u001B[38;5;28;01mexcept\u001B[39;00m:\n\u001B[1;32m    307\u001B[0m     \u001B[38;5;66;03m# infrastructure did not initialize, do teardown on whatever did come up\u001B[39;00m\n\u001B[1;32m    308\u001B[0m     \u001B[38;5;28mself\u001B[39m\u001B[38;5;241m.\u001B[39m_stop_infrastructure()\n",
      "File \u001B[0;32m/opt/ros/noetic/lib/python3/dist-packages/roslaunch/parent.py:263\u001B[0m, in \u001B[0;36mROSLaunchParent._start_infrastructure\u001B[0;34m(self)\u001B[0m\n\u001B[1;32m    260\u001B[0m \u001B[38;5;66;03m# Startup the roslaunch runner and XMLRPC server.\u001B[39;00m\n\u001B[1;32m    261\u001B[0m \u001B[38;5;66;03m# Requires pm\u001B[39;00m\n\u001B[1;32m    262\u001B[0m \u001B[38;5;28;01mif\u001B[39;00m \u001B[38;5;28mself\u001B[39m\u001B[38;5;241m.\u001B[39mserver \u001B[38;5;129;01mis\u001B[39;00m \u001B[38;5;28;01mNone\u001B[39;00m:\n\u001B[0;32m--> 263\u001B[0m     \u001B[38;5;28;43mself\u001B[39;49m\u001B[38;5;241;43m.\u001B[39;49m\u001B[43m_start_server\u001B[49m\u001B[43m(\u001B[49m\u001B[43m)\u001B[49m\n\u001B[1;32m    265\u001B[0m \u001B[38;5;66;03m# Startup the remote infrastructure.\u001B[39;00m\n\u001B[1;32m    266\u001B[0m \u001B[38;5;66;03m# Requires config, pm, and server\u001B[39;00m\n\u001B[1;32m    267\u001B[0m \u001B[38;5;28mself\u001B[39m\u001B[38;5;241m.\u001B[39m_start_remote()\n",
      "File \u001B[0;32m/opt/ros/noetic/lib/python3/dist-packages/roslaunch/parent.py:212\u001B[0m, in \u001B[0;36mROSLaunchParent._start_server\u001B[0;34m(self)\u001B[0m\n\u001B[1;32m    210\u001B[0m \u001B[38;5;28mself\u001B[39m\u001B[38;5;241m.\u001B[39mlogger\u001B[38;5;241m.\u001B[39minfo(\u001B[38;5;124m\"\u001B[39m\u001B[38;5;124mstarting parent XML-RPC server\u001B[39m\u001B[38;5;124m\"\u001B[39m)\n\u001B[1;32m    211\u001B[0m \u001B[38;5;28mself\u001B[39m\u001B[38;5;241m.\u001B[39mserver \u001B[38;5;241m=\u001B[39m roslaunch\u001B[38;5;241m.\u001B[39mserver\u001B[38;5;241m.\u001B[39mROSLaunchParentNode(\u001B[38;5;28mself\u001B[39m\u001B[38;5;241m.\u001B[39mconfig, \u001B[38;5;28mself\u001B[39m\u001B[38;5;241m.\u001B[39mpm)\n\u001B[0;32m--> 212\u001B[0m \u001B[38;5;28;43mself\u001B[39;49m\u001B[38;5;241;43m.\u001B[39;49m\u001B[43mserver\u001B[49m\u001B[38;5;241;43m.\u001B[39;49m\u001B[43mstart\u001B[49m\u001B[43m(\u001B[49m\u001B[43m)\u001B[49m\n\u001B[1;32m    213\u001B[0m \u001B[38;5;28;01mif\u001B[39;00m \u001B[38;5;129;01mnot\u001B[39;00m \u001B[38;5;28mself\u001B[39m\u001B[38;5;241m.\u001B[39mserver\u001B[38;5;241m.\u001B[39muri:\n\u001B[1;32m    214\u001B[0m     \u001B[38;5;28;01mraise\u001B[39;00m RLException(\u001B[38;5;124m\"\u001B[39m\u001B[38;5;124mserver URI did not initialize\u001B[39m\u001B[38;5;124m\"\u001B[39m)\n",
      "File \u001B[0;32m/opt/ros/noetic/lib/python3/dist-packages/roslaunch/server.py:404\u001B[0m, in \u001B[0;36mROSLaunchNode.start\u001B[0;34m(self)\u001B[0m\n\u001B[1;32m    402\u001B[0m         \u001B[38;5;28;01mif\u001B[39;00m \u001B[38;5;129;01mnot\u001B[39;00m server_up:\n\u001B[1;32m    403\u001B[0m             p \u001B[38;5;241m=\u001B[39m urlparse(\u001B[38;5;28mself\u001B[39m\u001B[38;5;241m.\u001B[39muri)\n\u001B[0;32m--> 404\u001B[0m             \u001B[38;5;28;01mraise\u001B[39;00m RLException(\u001B[38;5;124m\"\"\"\u001B[39m\u001B[38;5;124mUnable to contact my own server at [\u001B[39m\u001B[38;5;132;01m%s\u001B[39;00m\u001B[38;5;124m].\u001B[39m\n\u001B[1;32m    405\u001B[0m \u001B[38;5;124mThis usually means that the network is not configured properly.\u001B[39m\n\u001B[1;32m    406\u001B[0m \n\u001B[1;32m    407\u001B[0m \u001B[38;5;124mA common cause is that the machine cannot connect to itself.  Please check\u001B[39m\n\u001B[1;32m    408\u001B[0m \u001B[38;5;124mfor errors by running:\u001B[39m\n\u001B[1;32m    409\u001B[0m \n\u001B[1;32m    410\u001B[0m \u001B[38;5;130;01m\\t\u001B[39;00m\u001B[38;5;124mping \u001B[39m\u001B[38;5;132;01m%s\u001B[39;00m\n\u001B[1;32m    411\u001B[0m \n\u001B[1;32m    412\u001B[0m \u001B[38;5;124mFor more tips, please see\u001B[39m\n\u001B[1;32m    413\u001B[0m \n\u001B[1;32m    414\u001B[0m \u001B[38;5;130;01m\\t\u001B[39;00m\u001B[38;5;124mhttp://wiki.ros.org/ROS/NetworkSetup\u001B[39m\n\u001B[1;32m    415\u001B[0m \u001B[38;5;124m\"\"\"\u001B[39m\u001B[38;5;241m%\u001B[39m(\u001B[38;5;28mself\u001B[39m\u001B[38;5;241m.\u001B[39muri, p\u001B[38;5;241m.\u001B[39mhostname))\n\u001B[1;32m    416\u001B[0m         printlog_bold(\u001B[38;5;124m\"\u001B[39m\u001B[38;5;124mstarted roslaunch server \u001B[39m\u001B[38;5;132;01m%s\u001B[39;00m\u001B[38;5;124m\"\u001B[39m\u001B[38;5;241m%\u001B[39m(\u001B[38;5;28mself\u001B[39m\u001B[38;5;241m.\u001B[39muri))\n",
      "\u001B[0;31mRLException\u001B[0m: Unable to contact my own server at [http://192.168.0.130:41717/].\nThis usually means that the network is not configured properly.\n\nA common cause is that the machine cannot connect to itself.  Please check\nfor errors by running:\n\n\tping 192.168.0.130\n\nFor more tips, please see\n\n\thttp://wiki.ros.org/ROS/NetworkSetup\n"
     ]
    }
   ],
   "execution_count": 5
  },
  {
   "cell_type": "code",
   "source": [],
   "metadata": {
    "collapsed": false,
    "is_executing": true
   },
   "id": "aa836ffe066c2fbf",
   "outputs": [],
   "execution_count": null
  }
 ],
 "metadata": {
  "kernelspec": {
   "display_name": "Python 3",
   "language": "python",
   "name": "python3"
  },
  "language_info": {
   "codemirror_mode": {
    "name": "ipython",
    "version": 2
   },
   "file_extension": ".py",
   "mimetype": "text/x-python",
   "name": "python",
   "nbconvert_exporter": "python",
   "pygments_lexer": "ipython2",
   "version": "2.7.6"
  }
 },
 "nbformat": 4,
 "nbformat_minor": 5
}
