{
 "cells": [
  {
   "cell_type": "code",
   "execution_count": 1,
   "id": "initial_id",
   "metadata": {
    "collapsed": true,
    "ExecuteTime": {
     "end_time": "2024-09-02T13:45:17.337966Z",
     "start_time": "2024-09-02T13:45:15.472545Z"
    }
   },
   "outputs": [
    {
     "name": "stderr",
     "output_type": "stream",
     "text": [
      "Unknown attribute \"type\" in /robot[@name='tiago_dual']/link[@name='base_laser_link']\n",
      "Unknown tag \"material\" in /robot[@name='tiago_dual']/link[@name='base_link']/collision[1]\n",
      "Unknown tag \"material\" in /robot[@name='tiago_dual']/link[@name='base_antenna_left_link']/collision[1]\n",
      "Unknown tag \"material\" in /robot[@name='tiago_dual']/link[@name='base_antenna_right_link']/collision[1]\n",
      "Unknown tag \"kinematic\" in /robot[@name='tiago_dual']/link[@name='suspension_right_link']\n",
      "Unknown tag \"gravity\" in /robot[@name='tiago_dual']/link[@name='suspension_right_link']\n",
      "Unknown tag \"kinematic\" in /robot[@name='tiago_dual']/link[@name='suspension_left_link']\n",
      "Unknown tag \"gravity\" in /robot[@name='tiago_dual']/link[@name='suspension_left_link']\n",
      "Unknown tag \"material\" in /robot[@name='tiago_dual']/link[@name='torso_fixed_column_link']/collision[1]\n",
      "Unknown tag \"material\" in /robot[@name='tiago_dual']/link[@name='torso_lift_link']/collision[1]\n",
      "Unknown tag \"material\" in /robot[@name='tiago_dual']/link[@name='torso_lift_link']/collision[2]\n",
      "Unknown tag \"material\" in /robot[@name='tiago_dual']/link[@name='torso_lift_link']/collision[3]\n",
      "Unknown tag \"material\" in /robot[@name='tiago_dual']/link[@name='torso_lift_link']/collision[4]\n",
      "Unknown tag \"material\" in /robot[@name='tiago_dual']/link[@name='head_1_link']/collision[1]\n",
      "Unknown tag \"offset\" in /robot[@name='tiago_dual']/transmission[@name='head_1_trans']/joint[@name='head_1_joint']\n",
      "Unknown tag \"offset\" in /robot[@name='tiago_dual']/transmission[@name='head_2_trans']/joint[@name='head_2_joint']\n",
      "Unknown tag \"offset\" in /robot[@name='tiago_dual']/transmission[@name='arm_left_5_trans']/joint[@name='arm_left_5_joint']\n",
      "Unknown tag \"role\" in /robot[@name='tiago_dual']/transmission[@name='arm_left_wrist_trans']/actuator[@name='arm_left_6_motor']\n",
      "Unknown tag \"role\" in /robot[@name='tiago_dual']/transmission[@name='arm_left_wrist_trans']/actuator[@name='arm_left_7_motor']\n",
      "Unknown tag \"role\" in /robot[@name='tiago_dual']/transmission[@name='arm_left_wrist_trans']/joint[@name='arm_left_6_joint']\n",
      "Unknown tag \"offset\" in /robot[@name='tiago_dual']/transmission[@name='arm_left_wrist_trans']/joint[@name='arm_left_6_joint']\n",
      "Unknown tag \"mechanicalReduction\" in /robot[@name='tiago_dual']/transmission[@name='arm_left_wrist_trans']/joint[@name='arm_left_6_joint']\n",
      "Unknown tag \"ignoreTransmissionAbsoluteEncoder\" in /robot[@name='tiago_dual']/transmission[@name='arm_left_wrist_trans']/joint[@name='arm_left_6_joint']\n",
      "Unknown tag \"role\" in /robot[@name='tiago_dual']/transmission[@name='arm_left_wrist_trans']/joint[@name='arm_left_7_joint']\n",
      "Unknown tag \"offset\" in /robot[@name='tiago_dual']/transmission[@name='arm_left_wrist_trans']/joint[@name='arm_left_7_joint']\n",
      "Unknown tag \"mechanicalReduction\" in /robot[@name='tiago_dual']/transmission[@name='arm_left_wrist_trans']/joint[@name='arm_left_7_joint']\n",
      "Unknown tag \"ignoreTransmissionAbsoluteEncoder\" in /robot[@name='tiago_dual']/transmission[@name='arm_left_wrist_trans']/joint[@name='arm_left_7_joint']\n",
      "Unknown tag \"offset\" in /robot[@name='tiago_dual']/transmission[@name='arm_left_1_trans']/joint[@name='arm_left_1_joint']\n",
      "Unknown tag \"offset\" in /robot[@name='tiago_dual']/transmission[@name='arm_left_2_trans']/joint[@name='arm_left_2_joint']\n",
      "Unknown tag \"offset\" in /robot[@name='tiago_dual']/transmission[@name='arm_left_3_trans']/joint[@name='arm_left_3_joint']\n",
      "Unknown tag \"offset\" in /robot[@name='tiago_dual']/transmission[@name='arm_left_4_trans']/joint[@name='arm_left_4_joint']\n",
      "Unknown tag \"offset\" in /robot[@name='tiago_dual']/transmission[@name='arm_right_5_trans']/joint[@name='arm_right_5_joint']\n",
      "Unknown tag \"role\" in /robot[@name='tiago_dual']/transmission[@name='arm_right_wrist_trans']/actuator[@name='arm_right_6_motor']\n",
      "Unknown tag \"role\" in /robot[@name='tiago_dual']/transmission[@name='arm_right_wrist_trans']/actuator[@name='arm_right_7_motor']\n",
      "Unknown tag \"role\" in /robot[@name='tiago_dual']/transmission[@name='arm_right_wrist_trans']/joint[@name='arm_right_6_joint']\n",
      "Unknown tag \"offset\" in /robot[@name='tiago_dual']/transmission[@name='arm_right_wrist_trans']/joint[@name='arm_right_6_joint']\n",
      "Unknown tag \"mechanicalReduction\" in /robot[@name='tiago_dual']/transmission[@name='arm_right_wrist_trans']/joint[@name='arm_right_6_joint']\n",
      "Unknown tag \"ignoreTransmissionAbsoluteEncoder\" in /robot[@name='tiago_dual']/transmission[@name='arm_right_wrist_trans']/joint[@name='arm_right_6_joint']\n",
      "Unknown tag \"role\" in /robot[@name='tiago_dual']/transmission[@name='arm_right_wrist_trans']/joint[@name='arm_right_7_joint']\n",
      "Unknown tag \"offset\" in /robot[@name='tiago_dual']/transmission[@name='arm_right_wrist_trans']/joint[@name='arm_right_7_joint']\n",
      "Unknown tag \"mechanicalReduction\" in /robot[@name='tiago_dual']/transmission[@name='arm_right_wrist_trans']/joint[@name='arm_right_7_joint']\n",
      "Unknown tag \"ignoreTransmissionAbsoluteEncoder\" in /robot[@name='tiago_dual']/transmission[@name='arm_right_wrist_trans']/joint[@name='arm_right_7_joint']\n",
      "Unknown tag \"offset\" in /robot[@name='tiago_dual']/transmission[@name='arm_right_1_trans']/joint[@name='arm_right_1_joint']\n",
      "Unknown tag \"offset\" in /robot[@name='tiago_dual']/transmission[@name='arm_right_2_trans']/joint[@name='arm_right_2_joint']\n",
      "Unknown tag \"offset\" in /robot[@name='tiago_dual']/transmission[@name='arm_right_3_trans']/joint[@name='arm_right_3_joint']\n",
      "Unknown tag \"offset\" in /robot[@name='tiago_dual']/transmission[@name='arm_right_4_trans']/joint[@name='arm_right_4_joint']\n",
      "Unknown tag \"motorTorqueConstant\" in /robot[@name='boxy']/transmission[@name='left_gripper_base_trans_left']\n",
      "Unknown tag \"contact_coefficients\" in /robot[@name='boxy']/link[@name='left_gripper_gripper_left_link']\n",
      "Unknown tag \"contact_coefficients\" in /robot[@name='boxy']/link[@name='left_gripper_finger_left_link']\n",
      "Unknown tag \"motorTorqueConstant\" in /robot[@name='boxy']/transmission[@name='left_gripper_base_trans_right']\n",
      "Unknown tag \"contact_coefficients\" in /robot[@name='boxy']/link[@name='left_gripper_gripper_right_link']\n",
      "Unknown tag \"contact_coefficients\" in /robot[@name='boxy']/link[@name='left_gripper_finger_right_link']\n",
      "Unknown tag \"motorTorqueConstant\" in /robot[@name='boxy']/transmission[@name='right_gripper_base_trans_left']\n",
      "Unknown tag \"contact_coefficients\" in /robot[@name='boxy']/link[@name='right_gripper_gripper_left_link']\n",
      "Unknown tag \"contact_coefficients\" in /robot[@name='boxy']/link[@name='right_gripper_finger_left_link']\n",
      "Unknown tag \"motorTorqueConstant\" in /robot[@name='boxy']/transmission[@name='right_gripper_base_trans_right']\n",
      "Unknown tag \"contact_coefficients\" in /robot[@name='boxy']/link[@name='right_gripper_gripper_right_link']\n",
      "Unknown tag \"contact_coefficients\" in /robot[@name='boxy']/link[@name='right_gripper_finger_right_link']\n",
      "Unknown attribute \"type\" in /robot[@name='pr2']/link[@name='base_laser_link']\n",
      "Unknown attribute \"type\" in /robot[@name='pr2']/link[@name='wide_stereo_optical_frame']\n",
      "Unknown attribute \"type\" in /robot[@name='pr2']/link[@name='narrow_stereo_optical_frame']\n",
      "Unknown attribute \"type\" in /robot[@name='pr2']/link[@name='laser_tilt_link']\n",
      "Unknown attribute \"iyx\" in /robot[@name='ur5_robotiq']/link[@name='robotiq_85_base_link']/inertial/inertia\n",
      "Unknown attribute \"izx\" in /robot[@name='ur5_robotiq']/link[@name='robotiq_85_base_link']/inertial/inertia\n",
      "Unknown attribute \"izy\" in /robot[@name='ur5_robotiq']/link[@name='robotiq_85_base_link']/inertial/inertia\n",
      "Unknown attribute \"iyx\" in /robot[@name='ur5_robotiq']/link[@name='robotiq_85_left_knuckle_link']/inertial/inertia\n",
      "Unknown attribute \"izx\" in /robot[@name='ur5_robotiq']/link[@name='robotiq_85_left_knuckle_link']/inertial/inertia\n",
      "Unknown attribute \"izy\" in /robot[@name='ur5_robotiq']/link[@name='robotiq_85_left_knuckle_link']/inertial/inertia\n",
      "Unknown attribute \"iyx\" in /robot[@name='ur5_robotiq']/link[@name='robotiq_85_right_knuckle_link']/inertial/inertia\n",
      "Unknown attribute \"izx\" in /robot[@name='ur5_robotiq']/link[@name='robotiq_85_right_knuckle_link']/inertial/inertia\n",
      "Unknown attribute \"izy\" in /robot[@name='ur5_robotiq']/link[@name='robotiq_85_right_knuckle_link']/inertial/inertia\n",
      "Unknown attribute \"iyx\" in /robot[@name='ur5_robotiq']/link[@name='robotiq_85_left_finger_link']/inertial/inertia\n",
      "Unknown attribute \"izx\" in /robot[@name='ur5_robotiq']/link[@name='robotiq_85_left_finger_link']/inertial/inertia\n",
      "Unknown attribute \"izy\" in /robot[@name='ur5_robotiq']/link[@name='robotiq_85_left_finger_link']/inertial/inertia\n",
      "Unknown attribute \"iyx\" in /robot[@name='ur5_robotiq']/link[@name='robotiq_85_right_finger_link']/inertial/inertia\n",
      "Unknown attribute \"izx\" in /robot[@name='ur5_robotiq']/link[@name='robotiq_85_right_finger_link']/inertial/inertia\n",
      "Unknown attribute \"izy\" in /robot[@name='ur5_robotiq']/link[@name='robotiq_85_right_finger_link']/inertial/inertia\n",
      "Unknown attribute \"iyx\" in /robot[@name='ur5_robotiq']/link[@name='robotiq_85_left_inner_knuckle_link']/inertial/inertia\n",
      "Unknown attribute \"izx\" in /robot[@name='ur5_robotiq']/link[@name='robotiq_85_left_inner_knuckle_link']/inertial/inertia\n",
      "Unknown attribute \"izy\" in /robot[@name='ur5_robotiq']/link[@name='robotiq_85_left_inner_knuckle_link']/inertial/inertia\n",
      "Unknown attribute \"iyx\" in /robot[@name='ur5_robotiq']/link[@name='robotiq_85_right_inner_knuckle_link']/inertial/inertia\n",
      "Unknown attribute \"izx\" in /robot[@name='ur5_robotiq']/link[@name='robotiq_85_right_inner_knuckle_link']/inertial/inertia\n",
      "Unknown attribute \"izy\" in /robot[@name='ur5_robotiq']/link[@name='robotiq_85_right_inner_knuckle_link']/inertial/inertia\n",
      "Unknown attribute \"iyx\" in /robot[@name='ur5_robotiq']/link[@name='robotiq_85_left_finger_tip_link']/inertial/inertia\n",
      "Unknown attribute \"izx\" in /robot[@name='ur5_robotiq']/link[@name='robotiq_85_left_finger_tip_link']/inertial/inertia\n",
      "Unknown attribute \"izy\" in /robot[@name='ur5_robotiq']/link[@name='robotiq_85_left_finger_tip_link']/inertial/inertia\n",
      "Unknown tag \"contact\" in /robot[@name='ur5_robotiq']/link[@name='robotiq_85_left_finger_tip_link']\n",
      "Unknown attribute \"iyx\" in /robot[@name='ur5_robotiq']/link[@name='robotiq_85_right_finger_tip_link']/inertial/inertia\n",
      "Unknown attribute \"izx\" in /robot[@name='ur5_robotiq']/link[@name='robotiq_85_right_finger_tip_link']/inertial/inertia\n",
      "Unknown attribute \"izy\" in /robot[@name='ur5_robotiq']/link[@name='robotiq_85_right_finger_tip_link']/inertial/inertia\n",
      "Unknown tag \"contact\" in /robot[@name='ur5_robotiq']/link[@name='robotiq_85_right_finger_tip_link']\n",
      "Unknown tag \"motorTorqueConstant\" in /robot[@name='iai_donbot']/transmission[@name='gripper_base_trans_left']\n",
      "Unknown tag \"contact_coefficients\" in /robot[@name='iai_donbot']/link[@name='gripper_gripper_left_link']\n",
      "Unknown tag \"contact_coefficients\" in /robot[@name='iai_donbot']/link[@name='gripper_finger_left_link']\n",
      "Unknown tag \"motorTorqueConstant\" in /robot[@name='iai_donbot']/transmission[@name='gripper_base_trans_right']\n",
      "Unknown tag \"contact_coefficients\" in /robot[@name='iai_donbot']/link[@name='gripper_gripper_right_link']\n",
      "Unknown tag \"contact_coefficients\" in /robot[@name='iai_donbot']/link[@name='gripper_finger_right_link']\n",
      "Unknown tag \"material\" in /robot[@name='iai_donbot']/link[@name='camera_holder_link']/collision[1]\n",
      "Unknown tag \"material\" in /robot[@name='iai_donbot']/link[@name='switches']/collision[1]\n",
      "Unknown tag \"material\" in /robot[@name='iai_donbot']/link[@name='charger']/collision[1]\n",
      "Unknown tag \"material\" in /robot[@name='iai_donbot']/link[@name='e_stop']/collision[1]\n",
      "Unknown tag \"material\" in /robot[@name='iai_donbot']/link[@name='wlan']/collision[1]\n",
      "Unknown tag \"material\" in /robot[@name='iai_donbot']/link[@name='ur5_touchpad']/collision[1]\n",
      "Unknown tag \"material\" in /robot[@name='iai_donbot']/link[@name='wrist_collision']/collision[1]\n",
      "Unknown attribute \"spring_reference\" in /robot[@name='stretch_description']/joint[@name='joint_right_wheel']/dynamics\n",
      "Unknown attribute \"spring_stiffness\" in /robot[@name='stretch_description']/joint[@name='joint_right_wheel']/dynamics\n",
      "Unknown attribute \"spring_reference\" in /robot[@name='stretch_description']/joint[@name='joint_left_wheel']/dynamics\n",
      "Unknown attribute \"spring_stiffness\" in /robot[@name='stretch_description']/joint[@name='joint_left_wheel']/dynamics\n",
      "Unknown tag \"surface\" in /robot[@name='stretch_description']/link[@name='caster_link']/collision[1]\n",
      "Unknown tag \"hardwareInterface\" in /robot[@name='hsrb']/transmission[@name='base_transmission']/actuator[@name='base_r_drive_wheel_joint_actuator']\n",
      "Unknown tag \"hardwareInterface\" in /robot[@name='hsrb']/transmission[@name='base_transmission']/actuator[@name='base_l_drive_wheel_joint_actuator']\n",
      "Unknown tag \"hardwareInterface\" in /robot[@name='hsrb']/transmission[@name='base_roll_joint_transmission']/actuator[@name='base_roll_joint_actuator']\n",
      "Unknown tag \"hardwareInterface\" in /robot[@name='hsrb']/transmission[@name='head_pan_joint_transmission']/actuator[@name='head_pan_joint_actuator']\n",
      "Unknown tag \"hardwareInterface\" in /robot[@name='hsrb']/transmission[@name='head_tilt_joint_transmission']/actuator[@name='head_tilt_joint_actuator']\n",
      "Unknown tag \"hardwareInterface\" in /robot[@name='hsrb']/transmission[@name='arm_lift_joint_transmission']/actuator[@name='arm_lift_joint_actuator']\n",
      "Unknown tag \"hardwareInterface\" in /robot[@name='hsrb']/transmission[@name='arm_flex_joint_transmission']/actuator[@name='arm_flex_joint_actuator']\n",
      "Unknown tag \"hardwareInterface\" in /robot[@name='hsrb']/transmission[@name='arm_roll_joint_transmission']/actuator[@name='arm_roll_joint_actuator']\n",
      "Unknown tag \"hardwareInterface\" in /robot[@name='hsrb']/transmission[@name='wrist_flex_joint_transmission']/actuator[@name='wrist_flex_joint_actuator']\n",
      "Unknown tag \"hardwareInterface\" in /robot[@name='hsrb']/transmission[@name='wrist_roll_joint_transmission']/actuator[@name='wrist_roll_joint_actuator']\n",
      "Unknown tag \"hardwareInterface\" in /robot[@name='hsrb']/transmission[@name='hand_motor_joint_transmission']/actuator[@name='hand_motor_joint_actuator']\n",
      "Unknown tag \"hardwareInterface\" in /robot[@name='hsrb']/transmission[@name='hand_l_spring_proximal_joint_transmission']/actuator[@name='hand_l_spring_proximal_joint_actuator']\n",
      "Unknown tag \"hardwareInterface\" in /robot[@name='hsrb']/transmission[@name='hand_r_spring_proximal_joint_transmission']/actuator[@name='hand_r_spring_proximal_joint_actuator']\n",
      "Failed to import Robokudo messages, the real robot will not be available\n",
      "pybullet build time: May 20 2022 19:44:17\n"
     ]
    },
    {
     "data": {
      "text/plain": "Button(description='Execute Task', style=ButtonStyle())",
      "application/vnd.jupyter.widget-view+json": {
       "version_major": 2,
       "version_minor": 0,
       "model_id": "531c8810795b44d1a00494fa7b25ddc4"
      }
     },
     "metadata": {},
     "output_type": "display_data"
    },
    {
     "data": {
      "text/plain": "Output()",
      "application/vnd.jupyter.widget-view+json": {
       "version_major": 2,
       "version_minor": 0,
       "model_id": "482bd4c0566943a8a117c1c0c6388e41"
      }
     },
     "metadata": {},
     "output_type": "display_data"
    }
   ],
   "source": [
    "from demos.pycram_virtual_building_demos.setup.demo_manager import start_demo\n",
    "from demos.pycram_virtual_building_demos.hsrb.navigate_demo.src.navigate_demo import navigate_demo\n",
    "\n",
    "start_demo(navigate_demo)"
   ]
  },
  {
   "cell_type": "code",
   "outputs": [],
   "source": [],
   "metadata": {
    "collapsed": false,
    "is_executing": true
   },
   "id": "aa836ffe066c2fbf"
  }
 ],
 "metadata": {
  "kernelspec": {
   "display_name": "Python 3",
   "language": "python",
   "name": "python3"
  },
  "language_info": {
   "codemirror_mode": {
    "name": "ipython",
    "version": 2
   },
   "file_extension": ".py",
   "mimetype": "text/x-python",
   "name": "python",
   "nbconvert_exporter": "python",
   "pygments_lexer": "ipython2",
   "version": "2.7.6"
  }
 },
 "nbformat": 4,
 "nbformat_minor": 5
}
